{
 "cells": [
  {
   "cell_type": "code",
   "execution_count": 1,
   "id": "6f45d0e0",
   "metadata": {},
   "outputs": [],
   "source": [
    "import gradio as gr\n",
    "from spacy import displacy"
   ]
  },
  {
   "cell_type": "code",
   "execution_count": 6,
   "id": "51b2156c",
   "metadata": {},
   "outputs": [
    {
     "name": "stderr",
     "output_type": "stream",
     "text": [
      "/home/ec2-user/anaconda3/envs/pytorch_p36/lib/python3.6/site-packages/transformers/pipelines/token_classification.py:129: UserWarning: `grouped_entities` is deprecated and will be removed in version v5.0.0, defaulted to `aggregation_strategy=\"AggregationStrategy.SIMPLE\"` instead.\n",
      "  f'`grouped_entities` is deprecated and will be removed in version v5.0.0, defaulted to `aggregation_strategy=\"{aggregation_strategy}\"` instead.'\n"
     ]
    }
   ],
   "source": [
    "from transformers import AutoTokenizer, AutoModelForTokenClassification,pipeline\n",
    "tokenizer = AutoTokenizer.from_pretrained(\"abhibisht89/spanbert-large-cased-finetuned-ade_corpus_v2\")\n",
    "model = AutoModelForTokenClassification.from_pretrained(\"abhibisht89/spanbert-large-cased-finetuned-ade_corpus_v2\").to(\"cpu\")\n",
    "adr_ner_model = pipeline(task=\"ner\", model=model, tokenizer=tokenizer,grouped_entities=True)      "
   ]
  },
  {
   "cell_type": "code",
   "execution_count": 7,
   "id": "3f548fc6",
   "metadata": {
    "scrolled": true
   },
   "outputs": [
    {
     "name": "stdout",
     "output_type": "stream",
     "text": [
      "Running on local URL:  http://127.0.0.1:7860/\n",
      "Running on public URL: https://45031.gradio.app\n",
      "\n",
      "This share link will expire in 72 hours. To get longer links, send an email to: support@gradio.app\n"
     ]
    },
    {
     "data": {
      "text/html": [
       "\n",
       "        <iframe\n",
       "            width=\"900\"\n",
       "            height=\"500\"\n",
       "            src=\"https://45031.gradio.app\"\n",
       "            frameborder=\"0\"\n",
       "            allowfullscreen\n",
       "        ></iframe>\n",
       "        "
      ],
      "text/plain": [
       "<IPython.lib.display.IFrame at 0x7f8af65fd240>"
      ]
     },
     "metadata": {},
     "output_type": "display_data"
    },
    {
     "data": {
      "text/plain": [
       "(<Flask 'gradio.networking'>,\n",
       " 'http://127.0.0.1:7860/',\n",
       " 'https://45031.gradio.app')"
      ]
     },
     "execution_count": 7,
     "metadata": {},
     "output_type": "execute_result"
    },
    {
     "name": "stderr",
     "output_type": "stream",
     "text": [
      "Asking to truncate to max_length but no maximum length is provided and the model has no predefined maximum length. Default to no truncation.\n"
     ]
    }
   ],
   "source": [
    "def get_adr_from_text(sentence):\n",
    "    tokens = adr_ner_model(sentence)\n",
    "    entities = []\n",
    "    \n",
    "    for token in tokens:\n",
    "        label = token[\"entity_group\"]\n",
    "        if label != \"O\":\n",
    "            token[\"label\"] = label\n",
    "            entities.append(token)\n",
    "    \n",
    "    params = [{\"text\": sentence,\n",
    "               \"ents\": entities,\n",
    "               \"title\": None}]\n",
    "    \n",
    "    html = displacy.render(params, style=\"ent\", manual=True, options={\n",
    "        \"colors\": {\n",
    "                   \"DRUG\": \"#f08080\",\n",
    "                   \"ADR\": \"#9bddff\",\n",
    "               },\n",
    "    })\n",
    "    return html\n",
    "\n",
    "exp=[\"Abortion, miscarriage or uterine hemorrhage associated with misoprostol (Cytotec), a labor-inducing drug.\",\n",
    "    \"Addiction to many sedatives and analgesics, such as diazepam, morphine, etc.\",\n",
    "    \"Birth defects associated with thalidomide\",\n",
    "    \"Bleeding of the intestine associated with aspirin therapy\",\n",
    "    \"Cardiovascular disease associated with COX-2 inhibitors (i.e. Vioxx)\",\n",
    "    \"Deafness and kidney failure associated with gentamicin (an antibiotic)\",\n",
    "    \"Having fever after taking paracetamol\"]\n",
    "\n",
    "desc=\"An adverse drug reaction (ADR) can be defined as an appreciably harmful or unpleasant reaction resulting from an intervention related to the use of a medicinal product.\\\n",
    " The goal of this project is to extracts the adverse drug reaction from unstructured text with the Drug.\"\n",
    "\n",
    "inp=gr.inputs.Textbox(lines=5, placeholder=None, default=\"\", label=\"text to extract adverse drug reaction and drug mention\")\n",
    "out=gr.outputs.HTML(label=None)\n",
    "\n",
    "iface = gr.Interface(fn=get_adr_from_text, inputs=inp, outputs=out,examples=exp,article=desc,title=\"Adverse Drug Reaction Xtractor\",theme=\"huggingface\",layout='horizontal')\n",
    "iface.launch(share=True)"
   ]
  },
  {
   "cell_type": "code",
   "execution_count": null,
   "id": "4d7bede0",
   "metadata": {
    "scrolled": true
   },
   "outputs": [],
   "source": [
    "examples = [\n",
    "    \"Abortion, miscarriage or uterine hemorrhage associated with misoprostol (Cytotec), a labor-inducing drug.\",\n",
    "    \"Addiction to many sedatives and analgesics, such as diazepam, morphine, etc.\",\n",
    "    \"Birth defects associated with thalidomide\",\n",
    "    \"Bleeding of the intestine associated with aspirin therapy\",\n",
    "    \"Cardiovascular disease associated with COX-2 inhibitors (i.e. Vioxx)\",\n",
    "    \"Deafness and kidney failure associated with gentamicin (an antibiotic)\",\n",
    "    \"Having fever after taking paracetamol\"\n",
    "]"
   ]
  },
  {
   "cell_type": "code",
   "execution_count": null,
   "id": "b06b2bf2",
   "metadata": {},
   "outputs": [],
   "source": [
    "get_adr_from_text(examples[6])"
   ]
  },
  {
   "cell_type": "code",
   "execution_count": null,
   "id": "8ff91d92",
   "metadata": {},
   "outputs": [],
   "source": []
  },
  {
   "cell_type": "code",
   "execution_count": null,
   "id": "faa9ae05",
   "metadata": {},
   "outputs": [],
   "source": []
  },
  {
   "cell_type": "code",
   "execution_count": null,
   "id": "b727e962",
   "metadata": {},
   "outputs": [],
   "source": []
  }
 ],
 "metadata": {
  "kernelspec": {
   "display_name": "conda_pytorch_p36",
   "language": "python",
   "name": "conda_pytorch_p36"
  },
  "language_info": {
   "codemirror_mode": {
    "name": "ipython",
    "version": 3
   },
   "file_extension": ".py",
   "mimetype": "text/x-python",
   "name": "python",
   "nbconvert_exporter": "python",
   "pygments_lexer": "ipython3",
   "version": "3.6.13"
  }
 },
 "nbformat": 4,
 "nbformat_minor": 5
}
