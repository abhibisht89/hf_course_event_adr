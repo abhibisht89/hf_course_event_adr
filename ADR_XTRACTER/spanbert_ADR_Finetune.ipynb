{
 "cells": [
  {
   "cell_type": "markdown",
   "id": "76e17b26",
   "metadata": {},
   "source": [
    "In this notebook, we use the 🤗 transformers library to fine-tune the SpanBERT/spanbert-large-cased model on the dataset ade_corpus_v2. The goal is for the fine-tuned model to perform Named Entity Recognition by identifying Adverse Drug Reactions (ADRs) as well as Drug names.\n",
    "\n",
    "This was originally run on an ml.p3.2xlarge instance on AWS SageMaker."
   ]
  },
  {
   "cell_type": "code",
   "execution_count": null,
   "id": "7882d34f",
   "metadata": {},
   "outputs": [],
   "source": [
    "# !pip install torch==1.5.0"
   ]
  },
  {
   "cell_type": "code",
   "execution_count": null,
   "id": "10f3af80",
   "metadata": {
    "scrolled": true
   },
   "outputs": [],
   "source": [
    "# ! pip install datasets transformers seqeval"
   ]
  },
  {
   "cell_type": "code",
   "execution_count": null,
   "id": "46a9bbe2",
   "metadata": {},
   "outputs": [],
   "source": [
    "# ! pip install spacy "
   ]
  },
  {
   "cell_type": "code",
   "execution_count": 1,
   "id": "7c83debb",
   "metadata": {},
   "outputs": [],
   "source": [
    "from datasets import Dataset, ClassLabel, Sequence, load_dataset, load_metric\n",
    "import numpy as np\n",
    "import pandas as pd\n",
    "from spacy import displacy\n",
    "import transformers\n",
    "from transformers import (AutoModelForTokenClassification, \n",
    "                          AutoTokenizer, \n",
    "                          DataCollatorForTokenClassification,\n",
    "                          pipeline,\n",
    "                          TrainingArguments, \n",
    "                          Trainer)"
   ]
  },
  {
   "cell_type": "markdown",
   "id": "3c344ba5",
   "metadata": {},
   "source": [
    "# Dataset Exploration"
   ]
  },
  {
   "cell_type": "markdown",
   "id": "66e99d03",
   "metadata": {},
   "source": [
    "We use the Ade_corpus_v2_drug_ade_relation subset of the ade_corpus_v2 dataset, which provides labeled spans for drug names and adverse effects.\n",
    "\n",
    "See dataset page here: https://huggingface.co/datasets/ade_corpus_v2"
   ]
  },
  {
   "cell_type": "code",
   "execution_count": 2,
   "id": "7120c5fd",
   "metadata": {},
   "outputs": [
    {
     "name": "stderr",
     "output_type": "stream",
     "text": [
      "Reusing dataset ade_corpus_v2 (/home/ec2-user/.cache/huggingface/datasets/ade_corpus_v2/Ade_corpus_v2_drug_ade_relation/1.0.0/940d61334dbfac6b01ac5d00286a2122608b8dc79706ee7e9206a1edb172c559)\n"
     ]
    },
    {
     "data": {
      "application/vnd.jupyter.widget-view+json": {
       "model_id": "c7f21af5745f485b9fd72d5f7446d54f",
       "version_major": 2,
       "version_minor": 0
      },
      "text/plain": [
       "  0%|          | 0/1 [00:00<?, ?it/s]"
      ]
     },
     "metadata": {},
     "output_type": "display_data"
    }
   ],
   "source": [
    "datasets = load_dataset(\"ade_corpus_v2\", \"Ade_corpus_v2_drug_ade_relation\")"
   ]
  },
  {
   "cell_type": "code",
   "execution_count": 3,
   "id": "7007b86f",
   "metadata": {},
   "outputs": [
    {
     "data": {
      "text/plain": [
       "DatasetDict({\n",
       "    train: Dataset({\n",
       "        features: ['text', 'drug', 'effect', 'indexes'],\n",
       "        num_rows: 6821\n",
       "    })\n",
       "})"
      ]
     },
     "execution_count": 3,
     "metadata": {},
     "output_type": "execute_result"
    }
   ],
   "source": [
    "datasets"
   ]
  },
  {
   "cell_type": "code",
   "execution_count": 4,
   "id": "3e9f311d",
   "metadata": {},
   "outputs": [
    {
     "data": {
      "text/plain": [
       "{'text': 'BACKGROUND: How to best treat psychotic patients who have had past clozapine-induced agranulocytosis or granulocytopenia remains a problem.',\n",
       " 'drug': 'clozapine',\n",
       " 'effect': 'granulocytopenia',\n",
       " 'indexes': {'drug': {'start_char': [67], 'end_char': [76]},\n",
       "  'effect': {'start_char': [104], 'end_char': [120]}}}"
      ]
     },
     "execution_count": 4,
     "metadata": {},
     "output_type": "execute_result"
    }
   ],
   "source": [
    "datasets[\"train\"][10]"
   ]
  },
  {
   "cell_type": "markdown",
   "id": "1540c012",
   "metadata": {},
   "source": [
    "# Dataset Consolidation"
   ]
  },
  {
   "cell_type": "markdown",
   "id": "b4271dfd",
   "metadata": {},
   "source": [
    "Upon further examination of the dataset, we can see that sentences are often repeated to identify different pairs of drugs and adverse reactions. For example, see this sentence from the dataset:"
   ]
  },
  {
   "cell_type": "markdown",
   "id": "e6f93580",
   "metadata": {},
   "source": [
    "{'text': 'After therapy for diabetic coma with insulin (containing the preservative cresol) and electrolyte solutions was started, the patient complained of increasing myalgia, developed a high fever and respiratory and metabolic acidosis and lost consciousness.', 'drug': 'insulin', 'effect': 'increasing myalgia', 'indexes': {'drug': {'start_char': [37], 'end_char': [44]}, 'effect': {'start_char': [147], 'end_char': [165]}}}\n",
    "{'text': 'After therapy for diabetic coma with insulin (containing the preservative cresol) and electrolyte solutions was started, the patient complained of increasing myalgia, developed a high fever and respiratory and metabolic acidosis and lost consciousness.', 'drug': 'cresol', 'effect': 'lost consciousness', 'indexes': {'drug': {'start_char': [74], 'end_char': [80]}, 'effect': {'start_char': [233], 'end_char': [251]}}}\n",
    "{'text': 'After therapy for diabetic coma with insulin (containing the preservative cresol) and electrolyte solutions was started, the patient complained of increasing myalgia, developed a high fever and respiratory and metabolic acidosis and lost consciousness.', 'drug': 'cresol', 'effect': 'high fever', 'indexes': {'drug': {'start_char': [74], 'end_char': [80]}, 'effect': {'start_char': [179], 'end_char': [189]}}}\n",
    "{'text': 'After therapy for diabetic coma with insulin (containing the preservative cresol) and electrolyte solutions was started, the patient complained of increasing myalgia, developed a high fever and respiratory and metabolic acidosis and lost consciousness.', 'drug': 'insulin', 'effect': 'high fever', 'indexes': {'drug': {'start_char': [37], 'end_char': [44]}, 'effect': {'start_char': [179], 'end_char': [189]}}}\n",
    "{'text': 'After therapy for diabetic coma with insulin (containing the preservative cresol) and electrolyte solutions was started, the patient complained of increasing myalgia, developed a high fever and respiratory and metabolic acidosis and lost consciousness.', 'drug': 'insulin', 'effect': 'lost consciousness', 'indexes': {'drug': {'start_char': [37], 'end_char': [44]}, 'effect': {'start_char': [233], 'end_char': [251]}}}\n",
    "{'text': 'After therapy for diabetic coma with insulin (containing the preservative cresol) and electrolyte solutions was started, the patient complained of increasing myalgia, developed a high fever and respiratory and metabolic acidosis and lost consciousness.', 'drug': 'insulin', 'effect': 'respiratory and metabolic acidosis', 'indexes': {'drug': {'start_char': [37], 'end_char': [44]}, 'effect': {'start_char': [194], 'end_char': [228]}}}\n",
    "{'text': 'After therapy for diabetic coma with insulin (containing the preservative cresol) and electrolyte solutions was started, the patient complained of increasing myalgia, developed a high fever and respiratory and metabolic acidosis and lost consciousness.', 'drug': 'cresol', 'effect': 'respiratory and metabolic acidosis', 'indexes': {'drug': {'start_char': [74], 'end_char': [80]}, 'effect': {'start_char': [194], 'end_char': [228]}}}"
   ]
  },
  {
   "cell_type": "code",
   "execution_count": 5,
   "id": "bf01d783",
   "metadata": {},
   "outputs": [],
   "source": [
    "consolidated_dataset = {}\n",
    "\n",
    "for row in datasets[\"train\"]:\n",
    "    if row[\"text\"] in consolidated_dataset:\n",
    "        consolidated_dataset[row[\"text\"]][\"drug_indices_start\"].update(row[\"indexes\"][\"drug\"][\"start_char\"])\n",
    "        consolidated_dataset[row[\"text\"]][\"drug_indices_end\"].update(row[\"indexes\"][\"drug\"][\"end_char\"])\n",
    "        consolidated_dataset[row[\"text\"]][\"effect_indices_start\"].update(row[\"indexes\"][\"effect\"][\"start_char\"])\n",
    "        consolidated_dataset[row[\"text\"]][\"effect_indices_end\"].update(row[\"indexes\"][\"effect\"][\"end_char\"])\n",
    "        consolidated_dataset[row[\"text\"]][\"drug\"].append(row[\"drug\"])\n",
    "        consolidated_dataset[row[\"text\"]][\"effect\"].append(row[\"effect\"])\n",
    "        \n",
    "    else:\n",
    "        consolidated_dataset[row[\"text\"]] = {\n",
    "            \"text\": row[\"text\"],\n",
    "            \"drug\": [row[\"drug\"]],\n",
    "            \"effect\": [row[\"effect\"]],\n",
    "            # use sets because the indices can repeat for various reasons\n",
    "            \"drug_indices_start\": set(row[\"indexes\"][\"drug\"][\"start_char\"]),\n",
    "            \"drug_indices_end\": set(row[\"indexes\"][\"drug\"][\"end_char\"]),\n",
    "            \"effect_indices_start\": set(row[\"indexes\"][\"effect\"][\"start_char\"]),\n",
    "            \"effect_indices_end\": set(row[\"indexes\"][\"effect\"][\"end_char\"])\n",
    "        }"
   ]
  },
  {
   "cell_type": "markdown",
   "id": "64aebda4",
   "metadata": {},
   "source": [
    "With the dataset consolidated, we need to assign per-token labels to each sentence. First, we re-define our Python data structure as a Hugging Face Dataset object."
   ]
  },
  {
   "cell_type": "code",
   "execution_count": 6,
   "id": "2f0292ce",
   "metadata": {},
   "outputs": [],
   "source": [
    "df = pd.DataFrame(list(consolidated_dataset.values()))"
   ]
  },
  {
   "cell_type": "code",
   "execution_count": 7,
   "id": "508d651d",
   "metadata": {},
   "outputs": [
    {
     "data": {
      "text/html": [
       "<div>\n",
       "<style scoped>\n",
       "    .dataframe tbody tr th:only-of-type {\n",
       "        vertical-align: middle;\n",
       "    }\n",
       "\n",
       "    .dataframe tbody tr th {\n",
       "        vertical-align: top;\n",
       "    }\n",
       "\n",
       "    .dataframe thead th {\n",
       "        text-align: right;\n",
       "    }\n",
       "</style>\n",
       "<table border=\"1\" class=\"dataframe\">\n",
       "  <thead>\n",
       "    <tr style=\"text-align: right;\">\n",
       "      <th></th>\n",
       "      <th>text</th>\n",
       "      <th>drug</th>\n",
       "      <th>effect</th>\n",
       "      <th>drug_indices_start</th>\n",
       "      <th>drug_indices_end</th>\n",
       "      <th>effect_indices_start</th>\n",
       "      <th>effect_indices_end</th>\n",
       "    </tr>\n",
       "  </thead>\n",
       "  <tbody>\n",
       "    <tr>\n",
       "      <th>0</th>\n",
       "      <td>Intravenous azithromycin-induced ototoxicity.</td>\n",
       "      <td>[azithromycin]</td>\n",
       "      <td>[ototoxicity]</td>\n",
       "      <td>{12}</td>\n",
       "      <td>{24}</td>\n",
       "      <td>{33}</td>\n",
       "      <td>{44}</td>\n",
       "    </tr>\n",
       "    <tr>\n",
       "      <th>1</th>\n",
       "      <td>Immobilization, while Paget's bone disease was...</td>\n",
       "      <td>[dihydrotachysterol]</td>\n",
       "      <td>[increased calcium-release]</td>\n",
       "      <td>{91}</td>\n",
       "      <td>{109}</td>\n",
       "      <td>{143}</td>\n",
       "      <td>{168}</td>\n",
       "    </tr>\n",
       "    <tr>\n",
       "      <th>2</th>\n",
       "      <td>Unaccountable severe hypercalcemia in a patien...</td>\n",
       "      <td>[dihydrotachysterol]</td>\n",
       "      <td>[hypercalcemia]</td>\n",
       "      <td>{84}</td>\n",
       "      <td>{102}</td>\n",
       "      <td>{21}</td>\n",
       "      <td>{34}</td>\n",
       "    </tr>\n",
       "    <tr>\n",
       "      <th>3</th>\n",
       "      <td>METHODS: We report two cases of pseudoporphyri...</td>\n",
       "      <td>[naproxen, oxaprozin]</td>\n",
       "      <td>[pseudoporphyria, pseudoporphyria]</td>\n",
       "      <td>{58, 71}</td>\n",
       "      <td>{80, 66}</td>\n",
       "      <td>{32}</td>\n",
       "      <td>{47}</td>\n",
       "    </tr>\n",
       "    <tr>\n",
       "      <th>4</th>\n",
       "      <td>Naproxen, the most common offender, has been a...</td>\n",
       "      <td>[Naproxen]</td>\n",
       "      <td>[erythropoietic protoporphyria]</td>\n",
       "      <td>{0}</td>\n",
       "      <td>{8}</td>\n",
       "      <td>{134}</td>\n",
       "      <td>{163}</td>\n",
       "    </tr>\n",
       "  </tbody>\n",
       "</table>\n",
       "</div>"
      ],
      "text/plain": [
       "                                                text                   drug  \\\n",
       "0      Intravenous azithromycin-induced ototoxicity.         [azithromycin]   \n",
       "1  Immobilization, while Paget's bone disease was...   [dihydrotachysterol]   \n",
       "2  Unaccountable severe hypercalcemia in a patien...   [dihydrotachysterol]   \n",
       "3  METHODS: We report two cases of pseudoporphyri...  [naproxen, oxaprozin]   \n",
       "4  Naproxen, the most common offender, has been a...             [Naproxen]   \n",
       "\n",
       "                               effect drug_indices_start drug_indices_end  \\\n",
       "0                       [ototoxicity]               {12}             {24}   \n",
       "1         [increased calcium-release]               {91}            {109}   \n",
       "2                     [hypercalcemia]               {84}            {102}   \n",
       "3  [pseudoporphyria, pseudoporphyria]           {58, 71}         {80, 66}   \n",
       "4     [erythropoietic protoporphyria]                {0}              {8}   \n",
       "\n",
       "  effect_indices_start effect_indices_end  \n",
       "0                 {33}               {44}  \n",
       "1                {143}              {168}  \n",
       "2                 {21}               {34}  \n",
       "3                 {32}               {47}  \n",
       "4                {134}              {163}  "
      ]
     },
     "execution_count": 7,
     "metadata": {},
     "output_type": "execute_result"
    }
   ],
   "source": [
    "df.head()"
   ]
  },
  {
   "cell_type": "code",
   "execution_count": 8,
   "id": "c3cd4238",
   "metadata": {},
   "outputs": [],
   "source": [
    "# since no spans overlap, we can sort to get 1:1 matched index spans\n",
    "# note that sets don't preserve insertion order\n",
    "\n",
    "df[\"drug_indices_start\"] = df[\"drug_indices_start\"].apply(list).apply(sorted)\n",
    "df[\"drug_indices_end\"] = df[\"drug_indices_end\"].apply(list).apply(sorted)\n",
    "df[\"effect_indices_start\"] = df[\"effect_indices_start\"].apply(list).apply(sorted)\n",
    "df[\"effect_indices_end\"] = df[\"effect_indices_end\"].apply(list).apply(sorted)"
   ]
  },
  {
   "cell_type": "code",
   "execution_count": 9,
   "id": "70e00a0b",
   "metadata": {},
   "outputs": [
    {
     "data": {
      "text/html": [
       "<div>\n",
       "<style scoped>\n",
       "    .dataframe tbody tr th:only-of-type {\n",
       "        vertical-align: middle;\n",
       "    }\n",
       "\n",
       "    .dataframe tbody tr th {\n",
       "        vertical-align: top;\n",
       "    }\n",
       "\n",
       "    .dataframe thead th {\n",
       "        text-align: right;\n",
       "    }\n",
       "</style>\n",
       "<table border=\"1\" class=\"dataframe\">\n",
       "  <thead>\n",
       "    <tr style=\"text-align: right;\">\n",
       "      <th></th>\n",
       "      <th>text</th>\n",
       "      <th>drug</th>\n",
       "      <th>effect</th>\n",
       "      <th>drug_indices_start</th>\n",
       "      <th>drug_indices_end</th>\n",
       "      <th>effect_indices_start</th>\n",
       "      <th>effect_indices_end</th>\n",
       "    </tr>\n",
       "  </thead>\n",
       "  <tbody>\n",
       "    <tr>\n",
       "      <th>0</th>\n",
       "      <td>Intravenous azithromycin-induced ototoxicity.</td>\n",
       "      <td>[azithromycin]</td>\n",
       "      <td>[ototoxicity]</td>\n",
       "      <td>[12]</td>\n",
       "      <td>[24]</td>\n",
       "      <td>[33]</td>\n",
       "      <td>[44]</td>\n",
       "    </tr>\n",
       "    <tr>\n",
       "      <th>1</th>\n",
       "      <td>Immobilization, while Paget's bone disease was...</td>\n",
       "      <td>[dihydrotachysterol]</td>\n",
       "      <td>[increased calcium-release]</td>\n",
       "      <td>[91]</td>\n",
       "      <td>[109]</td>\n",
       "      <td>[143]</td>\n",
       "      <td>[168]</td>\n",
       "    </tr>\n",
       "    <tr>\n",
       "      <th>2</th>\n",
       "      <td>Unaccountable severe hypercalcemia in a patien...</td>\n",
       "      <td>[dihydrotachysterol]</td>\n",
       "      <td>[hypercalcemia]</td>\n",
       "      <td>[84]</td>\n",
       "      <td>[102]</td>\n",
       "      <td>[21]</td>\n",
       "      <td>[34]</td>\n",
       "    </tr>\n",
       "    <tr>\n",
       "      <th>3</th>\n",
       "      <td>METHODS: We report two cases of pseudoporphyri...</td>\n",
       "      <td>[naproxen, oxaprozin]</td>\n",
       "      <td>[pseudoporphyria, pseudoporphyria]</td>\n",
       "      <td>[58, 71]</td>\n",
       "      <td>[66, 80]</td>\n",
       "      <td>[32]</td>\n",
       "      <td>[47]</td>\n",
       "    </tr>\n",
       "    <tr>\n",
       "      <th>4</th>\n",
       "      <td>Naproxen, the most common offender, has been a...</td>\n",
       "      <td>[Naproxen]</td>\n",
       "      <td>[erythropoietic protoporphyria]</td>\n",
       "      <td>[0]</td>\n",
       "      <td>[8]</td>\n",
       "      <td>[134]</td>\n",
       "      <td>[163]</td>\n",
       "    </tr>\n",
       "  </tbody>\n",
       "</table>\n",
       "</div>"
      ],
      "text/plain": [
       "                                                text                   drug  \\\n",
       "0      Intravenous azithromycin-induced ototoxicity.         [azithromycin]   \n",
       "1  Immobilization, while Paget's bone disease was...   [dihydrotachysterol]   \n",
       "2  Unaccountable severe hypercalcemia in a patien...   [dihydrotachysterol]   \n",
       "3  METHODS: We report two cases of pseudoporphyri...  [naproxen, oxaprozin]   \n",
       "4  Naproxen, the most common offender, has been a...             [Naproxen]   \n",
       "\n",
       "                               effect drug_indices_start drug_indices_end  \\\n",
       "0                       [ototoxicity]               [12]             [24]   \n",
       "1         [increased calcium-release]               [91]            [109]   \n",
       "2                     [hypercalcemia]               [84]            [102]   \n",
       "3  [pseudoporphyria, pseudoporphyria]           [58, 71]         [66, 80]   \n",
       "4     [erythropoietic protoporphyria]                [0]              [8]   \n",
       "\n",
       "  effect_indices_start effect_indices_end  \n",
       "0                 [33]               [44]  \n",
       "1                [143]              [168]  \n",
       "2                 [21]               [34]  \n",
       "3                 [32]               [47]  \n",
       "4                [134]              [163]  "
      ]
     },
     "execution_count": 9,
     "metadata": {},
     "output_type": "execute_result"
    }
   ],
   "source": [
    "df.head()"
   ]
  },
  {
   "cell_type": "code",
   "execution_count": 10,
   "id": "9840b4dc",
   "metadata": {},
   "outputs": [],
   "source": [
    "# save to JSON to then import into Dataset object\n",
    "df.to_json(\"dataset.jsonl\", orient=\"records\", lines=True)"
   ]
  },
  {
   "cell_type": "code",
   "execution_count": 11,
   "id": "5b1dfec3",
   "metadata": {},
   "outputs": [
    {
     "name": "stderr",
     "output_type": "stream",
     "text": [
      "Using custom data configuration default-1cc54ed808739822\n"
     ]
    },
    {
     "name": "stdout",
     "output_type": "stream",
     "text": [
      "Downloading and preparing dataset json/default to /home/ec2-user/.cache/huggingface/datasets/json/default-1cc54ed808739822/0.0.0/c2d554c3377ea79c7664b93dc65d0803b45e3279000f993c7bfd18937fd7f426...\n"
     ]
    },
    {
     "data": {
      "application/vnd.jupyter.widget-view+json": {
       "model_id": "4156818807fb4fc5b5888b6cff96b82b",
       "version_major": 2,
       "version_minor": 0
      },
      "text/plain": [
       "  0%|          | 0/1 [00:00<?, ?it/s]"
      ]
     },
     "metadata": {},
     "output_type": "display_data"
    },
    {
     "data": {
      "application/vnd.jupyter.widget-view+json": {
       "model_id": "6e103926429c4e7189cf07f5c14f0ab8",
       "version_major": 2,
       "version_minor": 0
      },
      "text/plain": [
       "  0%|          | 0/1 [00:00<?, ?it/s]"
      ]
     },
     "metadata": {},
     "output_type": "display_data"
    },
    {
     "name": "stdout",
     "output_type": "stream",
     "text": [
      "Dataset json downloaded and prepared to /home/ec2-user/.cache/huggingface/datasets/json/default-1cc54ed808739822/0.0.0/c2d554c3377ea79c7664b93dc65d0803b45e3279000f993c7bfd18937fd7f426. Subsequent calls will reuse this data.\n"
     ]
    },
    {
     "data": {
      "application/vnd.jupyter.widget-view+json": {
       "model_id": "2eea23cd0b644fcfbd6200681b32ad6e",
       "version_major": 2,
       "version_minor": 0
      },
      "text/plain": [
       "  0%|          | 0/1 [00:00<?, ?it/s]"
      ]
     },
     "metadata": {},
     "output_type": "display_data"
    }
   ],
   "source": [
    "cons_dataset = load_dataset(\"json\", data_files=\"dataset.jsonl\")"
   ]
  },
  {
   "cell_type": "code",
   "execution_count": 12,
   "id": "4d0156ad",
   "metadata": {},
   "outputs": [],
   "source": [
    "# no train-test provided, so we create our own\n",
    "cons_dataset = cons_dataset[\"train\"].train_test_split()"
   ]
  },
  {
   "cell_type": "code",
   "execution_count": 13,
   "id": "b80c1d16",
   "metadata": {},
   "outputs": [
    {
     "data": {
      "text/plain": [
       "DatasetDict({\n",
       "    train: Dataset({\n",
       "        features: ['text', 'drug', 'effect', 'drug_indices_start', 'drug_indices_end', 'effect_indices_start', 'effect_indices_end'],\n",
       "        num_rows: 3203\n",
       "    })\n",
       "    test: Dataset({\n",
       "        features: ['text', 'drug', 'effect', 'drug_indices_start', 'drug_indices_end', 'effect_indices_start', 'effect_indices_end'],\n",
       "        num_rows: 1068\n",
       "    })\n",
       "})"
      ]
     },
     "execution_count": 13,
     "metadata": {},
     "output_type": "execute_result"
    }
   ],
   "source": [
    "cons_dataset"
   ]
  },
  {
   "cell_type": "markdown",
   "id": "3e258572",
   "metadata": {},
   "source": [
    "# Token Labeling"
   ]
  },
  {
   "cell_type": "raw",
   "id": "cddab0f2",
   "metadata": {},
   "source": [
    "Finally, we can label each token with its entity. We use BIO tagging on two entities, DRUG and EFFECT. This results in five possible classes for each token:\n",
    "\n",
    "O - outside any entity we care about\n",
    "B-DRUG - the beginning of a DRUG entity\n",
    "I-DRUG - inside a DRUG entity\n",
    "B-EFFECT - the beginning of an EFFECT entity\n",
    "I-EFFECT - inside an EFFECT entity"
   ]
  },
  {
   "cell_type": "code",
   "execution_count": 14,
   "id": "ad4472aa",
   "metadata": {},
   "outputs": [],
   "source": [
    "label_list = ['O', 'B-DRUG', 'I-DRUG', 'B-EFFECT', 'I-EFFECT']\n",
    "\n",
    "custom_seq = Sequence(feature=ClassLabel(num_classes=5, \n",
    "                                         names=label_list,\n",
    "                                         names_file=None, id=None), length=-1, id=None)\n",
    "\n",
    "cons_dataset[\"train\"].features[\"ner_tags\"] = custom_seq\n",
    "cons_dataset[\"test\"].features[\"ner_tags\"] = custom_seq"
   ]
  },
  {
   "cell_type": "code",
   "execution_count": 15,
   "id": "cc4ea508",
   "metadata": {},
   "outputs": [],
   "source": [
    "model_checkpoint = \"SpanBERT/spanbert-large-cased\""
   ]
  },
  {
   "cell_type": "code",
   "execution_count": 16,
   "id": "21993f25",
   "metadata": {},
   "outputs": [],
   "source": [
    "tokenizer = AutoTokenizer.from_pretrained(model_checkpoint)"
   ]
  },
  {
   "cell_type": "code",
   "execution_count": 17,
   "id": "781e6e44",
   "metadata": {},
   "outputs": [],
   "source": [
    "def generate_row_labels(row, verbose=False):\n",
    "    \"\"\" Given a row from the consolidated `Ade_corpus_v2_drug_ade_relation` dataset, \n",
    "    generates BIO tags for drug and effect entities. \n",
    "    \n",
    "    \"\"\"\n",
    "\n",
    "    text = row[\"text\"]\n",
    "\n",
    "    labels = []\n",
    "    label = \"O\"\n",
    "    prefix = \"\"\n",
    "    \n",
    "    # while iterating through tokens, increment to traverse all drug and effect spans\n",
    "    drug_index = 0\n",
    "    effect_index = 0\n",
    "    \n",
    "    tokens = tokenizer(text, return_offsets_mapping=True)\n",
    "\n",
    "    for n in range(len(tokens[\"input_ids\"])):\n",
    "        offset_start, offset_end = tokens[\"offset_mapping\"][n]\n",
    "\n",
    "        # should only happen for [CLS] and [SEP]\n",
    "        if offset_end - offset_start == 0:\n",
    "            labels.append(-100)\n",
    "            continue\n",
    "        \n",
    "        if drug_index < len(row[\"drug_indices_start\"]) and offset_start == row[\"drug_indices_start\"][drug_index]:\n",
    "            label = \"DRUG\"\n",
    "            prefix = \"B-\"\n",
    "\n",
    "        elif effect_index < len(row[\"effect_indices_start\"]) and offset_start == row[\"effect_indices_start\"][effect_index]:\n",
    "            label = \"EFFECT\"\n",
    "            prefix = \"B-\"\n",
    "        \n",
    "        labels.append(label_list.index(f\"{prefix}{label}\"))\n",
    "            \n",
    "        if drug_index < len(row[\"drug_indices_end\"]) and offset_end == row[\"drug_indices_end\"][drug_index]:\n",
    "            label = \"O\"\n",
    "            prefix = \"\"\n",
    "            drug_index += 1\n",
    "            \n",
    "        elif effect_index < len(row[\"effect_indices_end\"]) and offset_end == row[\"effect_indices_end\"][effect_index]:\n",
    "            label = \"O\"\n",
    "            prefix = \"\"\n",
    "            effect_index += 1\n",
    "\n",
    "        # need to transition \"inside\" if we just entered an entity\n",
    "        if prefix == \"B-\":\n",
    "            prefix = \"I-\"\n",
    "    \n",
    "    if verbose:\n",
    "        print(f\"{row}\\n\")\n",
    "        orig = tokenizer.convert_ids_to_tokens(tokens[\"input_ids\"])\n",
    "        for n in range(len(labels)):\n",
    "            print(orig[n], labels[n])\n",
    "    tokens[\"labels\"] = labels\n",
    "    \n",
    "    return tokens"
   ]
  },
  {
   "cell_type": "code",
   "execution_count": 18,
   "id": "60e5a40e",
   "metadata": {},
   "outputs": [
    {
     "name": "stdout",
     "output_type": "stream",
     "text": [
      "{'text': 'Ampicillin-associated seizures.', 'drug': ['Ampicillin'], 'effect': ['seizures'], 'drug_indices_start': [0], 'drug_indices_end': [10], 'effect_indices_start': [22], 'effect_indices_end': [30]}\n",
      "\n",
      "[CLS] -100\n",
      "am 1\n",
      "##pic 2\n",
      "##ill 2\n",
      "##in 2\n",
      "- 0\n",
      "associated 0\n",
      "seizure 3\n",
      "##s 4\n",
      ". 0\n",
      "[SEP] -100\n"
     ]
    },
    {
     "data": {
      "text/plain": [
       "{'input_ids': [101, 1821, 20437, 7956, 1394, 118, 2628, 20752, 1116, 119, 102], 'token_type_ids': [0, 0, 0, 0, 0, 0, 0, 0, 0, 0, 0], 'attention_mask': [1, 1, 1, 1, 1, 1, 1, 1, 1, 1, 1], 'offset_mapping': [(0, 0), (0, 2), (2, 5), (5, 8), (8, 10), (10, 11), (11, 21), (22, 29), (29, 30), (30, 31), (0, 0)], 'labels': [-100, 1, 2, 2, 2, 0, 0, 3, 4, 0, -100]}"
      ]
     },
     "execution_count": 18,
     "metadata": {},
     "output_type": "execute_result"
    }
   ],
   "source": [
    "# testing out...\n",
    "\n",
    "generate_row_labels(cons_dataset[\"train\"][2], verbose=True)"
   ]
  },
  {
   "cell_type": "code",
   "execution_count": 19,
   "id": "d5f512fd",
   "metadata": {},
   "outputs": [
    {
     "data": {
      "application/vnd.jupyter.widget-view+json": {
       "model_id": "abdd453a84a8409f845a27dca092dc12",
       "version_major": 2,
       "version_minor": 0
      },
      "text/plain": [
       "  0%|          | 0/3203 [00:00<?, ?ex/s]"
      ]
     },
     "metadata": {},
     "output_type": "display_data"
    },
    {
     "data": {
      "application/vnd.jupyter.widget-view+json": {
       "model_id": "1d3759dd0f3e4a83ad9b01c95cc0a6be",
       "version_major": 2,
       "version_minor": 0
      },
      "text/plain": [
       "  0%|          | 0/1068 [00:00<?, ?ex/s]"
      ]
     },
     "metadata": {},
     "output_type": "display_data"
    }
   ],
   "source": [
    "labeled_dataset = cons_dataset.map(generate_row_labels)"
   ]
  },
  {
   "cell_type": "code",
   "execution_count": 20,
   "id": "f1fff887",
   "metadata": {},
   "outputs": [
    {
     "data": {
      "text/plain": [
       "DatasetDict({\n",
       "    train: Dataset({\n",
       "        features: ['text', 'drug', 'effect', 'drug_indices_start', 'drug_indices_end', 'effect_indices_start', 'effect_indices_end', 'input_ids', 'token_type_ids', 'attention_mask', 'offset_mapping', 'labels'],\n",
       "        num_rows: 3203\n",
       "    })\n",
       "    test: Dataset({\n",
       "        features: ['text', 'drug', 'effect', 'drug_indices_start', 'drug_indices_end', 'effect_indices_start', 'effect_indices_end', 'input_ids', 'token_type_ids', 'attention_mask', 'offset_mapping', 'labels'],\n",
       "        num_rows: 1068\n",
       "    })\n",
       "})"
      ]
     },
     "execution_count": 20,
     "metadata": {},
     "output_type": "execute_result"
    }
   ],
   "source": [
    "labeled_dataset"
   ]
  },
  {
   "cell_type": "markdown",
   "id": "836ca01f",
   "metadata": {},
   "source": [
    "# SpanBERT Model Fine-Tuning"
   ]
  },
  {
   "cell_type": "markdown",
   "id": "e66e9be5",
   "metadata": {},
   "source": [
    "We are now ready to fine-tune the SpanBERT model on our dataset. This section is modified from the following 🤗 notebook provided here: https://github.com/huggingface/notebooks/blob/master/examples/token_classification.ipynb"
   ]
  },
  {
   "cell_type": "code",
   "execution_count": 21,
   "id": "bc0fe019",
   "metadata": {},
   "outputs": [],
   "source": [
    "task = \"ner\" # Should be one of \"ner\", \"pos\" or \"chunk\"\n",
    "batch_size = 16"
   ]
  },
  {
   "cell_type": "code",
   "execution_count": 22,
   "id": "40e7e296",
   "metadata": {},
   "outputs": [
    {
     "name": "stderr",
     "output_type": "stream",
     "text": [
      "Some weights of BertForTokenClassification were not initialized from the model checkpoint at SpanBERT/spanbert-large-cased and are newly initialized: ['classifier.bias', 'classifier.weight']\n",
      "You should probably TRAIN this model on a down-stream task to be able to use it for predictions and inference.\n"
     ]
    }
   ],
   "source": [
    "model = AutoModelForTokenClassification.from_pretrained(model_checkpoint, num_labels=len(label_list))"
   ]
  },
  {
   "cell_type": "code",
   "execution_count": 23,
   "id": "47736cfc",
   "metadata": {},
   "outputs": [],
   "source": [
    "model_name = model_checkpoint.split(\"/\")[-1]\n",
    "args = TrainingArguments(\n",
    "    f\"{model_name}-finetuned-{task}\",\n",
    "    evaluation_strategy = \"epoch\",\n",
    "    learning_rate=1e-5,\n",
    "    per_device_train_batch_size=batch_size,\n",
    "    per_device_eval_batch_size=batch_size,\n",
    "    num_train_epochs=5,\n",
    "    weight_decay=0.05,\n",
    "    logging_steps=1\n",
    ")"
   ]
  },
  {
   "cell_type": "code",
   "execution_count": 24,
   "id": "a635e5fd",
   "metadata": {},
   "outputs": [],
   "source": [
    "data_collator = DataCollatorForTokenClassification(tokenizer)"
   ]
  },
  {
   "cell_type": "code",
   "execution_count": 25,
   "id": "2ffb60fd",
   "metadata": {},
   "outputs": [],
   "source": [
    "metric = load_metric(\"seqeval\")"
   ]
  },
  {
   "cell_type": "code",
   "execution_count": 26,
   "id": "12ea1148",
   "metadata": {},
   "outputs": [],
   "source": [
    "def compute_metrics(p):\n",
    "    predictions, labels = p\n",
    "    predictions = np.argmax(predictions, axis=2)\n",
    "\n",
    "    # Remove ignored index (special tokens)\n",
    "    true_predictions = [\n",
    "        [label_list[p] for (p, l) in zip(prediction, label) if l != -100]\n",
    "        for prediction, label in zip(predictions, labels)\n",
    "    ]\n",
    "    true_labels = [\n",
    "        [label_list[l] for (p, l) in zip(prediction, label) if l != -100]\n",
    "        for prediction, label in zip(predictions, labels)\n",
    "    ]\n",
    "\n",
    "    results = metric.compute(predictions=true_predictions, references=true_labels)\n",
    "    return {\n",
    "        \"precision\": results[\"overall_precision\"],\n",
    "        \"recall\": results[\"overall_recall\"],\n",
    "        \"f1\": results[\"overall_f1\"],\n",
    "        \"accuracy\": results[\"overall_accuracy\"],\n",
    "    }"
   ]
  },
  {
   "cell_type": "code",
   "execution_count": 27,
   "id": "3e092fb3",
   "metadata": {},
   "outputs": [],
   "source": [
    "trainer = Trainer(\n",
    "    model,\n",
    "    args,\n",
    "    train_dataset=labeled_dataset[\"train\"],\n",
    "    eval_dataset=labeled_dataset[\"test\"],\n",
    "    data_collator=data_collator,\n",
    "    tokenizer=tokenizer,\n",
    "    compute_metrics=compute_metrics, \n",
    "\n",
    ")"
   ]
  },
  {
   "cell_type": "code",
   "execution_count": 28,
   "id": "764a702d",
   "metadata": {},
   "outputs": [
    {
     "name": "stderr",
     "output_type": "stream",
     "text": [
      "The following columns in the training set  don't have a corresponding argument in `BertForTokenClassification.forward` and have been ignored: effect_indices_start, effect_indices_end, drug_indices_start, drug, drug_indices_end, text, effect, offset_mapping.\n",
      "***** Running training *****\n",
      "  Num examples = 3203\n",
      "  Num Epochs = 5\n",
      "  Instantaneous batch size per device = 16\n",
      "  Total train batch size (w. parallel, distributed & accumulation) = 16\n",
      "  Gradient Accumulation steps = 1\n",
      "  Total optimization steps = 1005\n"
     ]
    },
    {
     "data": {
      "text/html": [
       "\n",
       "    <div>\n",
       "      \n",
       "      <progress value='1005' max='1005' style='width:300px; height:20px; vertical-align: middle;'></progress>\n",
       "      [1005/1005 05:00, Epoch 5/5]\n",
       "    </div>\n",
       "    <table border=\"1\" class=\"dataframe\">\n",
       "  <thead>\n",
       "    <tr style=\"text-align: left;\">\n",
       "      <th>Epoch</th>\n",
       "      <th>Training Loss</th>\n",
       "      <th>Validation Loss</th>\n",
       "      <th>Precision</th>\n",
       "      <th>Recall</th>\n",
       "      <th>F1</th>\n",
       "      <th>Accuracy</th>\n",
       "    </tr>\n",
       "  </thead>\n",
       "  <tbody>\n",
       "    <tr>\n",
       "      <td>1</td>\n",
       "      <td>0.079000</td>\n",
       "      <td>0.201275</td>\n",
       "      <td>0.803863</td>\n",
       "      <td>0.890775</td>\n",
       "      <td>0.845090</td>\n",
       "      <td>0.947690</td>\n",
       "    </tr>\n",
       "    <tr>\n",
       "      <td>2</td>\n",
       "      <td>0.150000</td>\n",
       "      <td>0.176926</td>\n",
       "      <td>0.815992</td>\n",
       "      <td>0.900000</td>\n",
       "      <td>0.855940</td>\n",
       "      <td>0.950132</td>\n",
       "    </tr>\n",
       "    <tr>\n",
       "      <td>3</td>\n",
       "      <td>0.127400</td>\n",
       "      <td>0.162108</td>\n",
       "      <td>0.849773</td>\n",
       "      <td>0.899631</td>\n",
       "      <td>0.873992</td>\n",
       "      <td>0.955414</td>\n",
       "    </tr>\n",
       "    <tr>\n",
       "      <td>4</td>\n",
       "      <td>0.063100</td>\n",
       "      <td>0.167650</td>\n",
       "      <td>0.849689</td>\n",
       "      <td>0.907380</td>\n",
       "      <td>0.877587</td>\n",
       "      <td>0.955386</td>\n",
       "    </tr>\n",
       "    <tr>\n",
       "      <td>5</td>\n",
       "      <td>0.030300</td>\n",
       "      <td>0.169118</td>\n",
       "      <td>0.849723</td>\n",
       "      <td>0.905535</td>\n",
       "      <td>0.876742</td>\n",
       "      <td>0.956039</td>\n",
       "    </tr>\n",
       "  </tbody>\n",
       "</table><p>"
      ],
      "text/plain": [
       "<IPython.core.display.HTML object>"
      ]
     },
     "metadata": {},
     "output_type": "display_data"
    },
    {
     "name": "stderr",
     "output_type": "stream",
     "text": [
      "The following columns in the evaluation set  don't have a corresponding argument in `BertForTokenClassification.forward` and have been ignored: effect_indices_start, effect_indices_end, drug_indices_start, drug, drug_indices_end, text, effect, offset_mapping.\n",
      "***** Running Evaluation *****\n",
      "  Num examples = 1068\n",
      "  Batch size = 16\n",
      "The following columns in the evaluation set  don't have a corresponding argument in `BertForTokenClassification.forward` and have been ignored: effect_indices_start, effect_indices_end, drug_indices_start, drug, drug_indices_end, text, effect, offset_mapping.\n",
      "***** Running Evaluation *****\n",
      "  Num examples = 1068\n",
      "  Batch size = 16\n",
      "Saving model checkpoint to spanbert-large-cased-finetuned-ner/checkpoint-500\n",
      "Configuration saved in spanbert-large-cased-finetuned-ner/checkpoint-500/config.json\n",
      "Model weights saved in spanbert-large-cased-finetuned-ner/checkpoint-500/pytorch_model.bin\n",
      "tokenizer config file saved in spanbert-large-cased-finetuned-ner/checkpoint-500/tokenizer_config.json\n",
      "Special tokens file saved in spanbert-large-cased-finetuned-ner/checkpoint-500/special_tokens_map.json\n",
      "The following columns in the evaluation set  don't have a corresponding argument in `BertForTokenClassification.forward` and have been ignored: effect_indices_start, effect_indices_end, drug_indices_start, drug, drug_indices_end, text, effect, offset_mapping.\n",
      "***** Running Evaluation *****\n",
      "  Num examples = 1068\n",
      "  Batch size = 16\n",
      "The following columns in the evaluation set  don't have a corresponding argument in `BertForTokenClassification.forward` and have been ignored: effect_indices_start, effect_indices_end, drug_indices_start, drug, drug_indices_end, text, effect, offset_mapping.\n",
      "***** Running Evaluation *****\n",
      "  Num examples = 1068\n",
      "  Batch size = 16\n",
      "Saving model checkpoint to spanbert-large-cased-finetuned-ner/checkpoint-1000\n",
      "Configuration saved in spanbert-large-cased-finetuned-ner/checkpoint-1000/config.json\n",
      "Model weights saved in spanbert-large-cased-finetuned-ner/checkpoint-1000/pytorch_model.bin\n",
      "tokenizer config file saved in spanbert-large-cased-finetuned-ner/checkpoint-1000/tokenizer_config.json\n",
      "Special tokens file saved in spanbert-large-cased-finetuned-ner/checkpoint-1000/special_tokens_map.json\n",
      "The following columns in the evaluation set  don't have a corresponding argument in `BertForTokenClassification.forward` and have been ignored: effect_indices_start, effect_indices_end, drug_indices_start, drug, drug_indices_end, text, effect, offset_mapping.\n",
      "***** Running Evaluation *****\n",
      "  Num examples = 1068\n",
      "  Batch size = 16\n",
      "\n",
      "\n",
      "Training completed. Do not forget to share your model on huggingface.co/models =)\n",
      "\n",
      "\n"
     ]
    },
    {
     "data": {
      "text/plain": [
       "TrainOutput(global_step=1005, training_loss=0.18620062940082147, metrics={'train_runtime': 300.6498, 'train_samples_per_second': 53.268, 'train_steps_per_second': 3.343, 'total_flos': 1932024043823868.0, 'train_loss': 0.18620062940082147, 'epoch': 5.0})"
      ]
     },
     "execution_count": 28,
     "metadata": {},
     "output_type": "execute_result"
    }
   ],
   "source": [
    "trainer.train()"
   ]
  },
  {
   "cell_type": "code",
   "execution_count": 29,
   "id": "321928db",
   "metadata": {},
   "outputs": [
    {
     "name": "stderr",
     "output_type": "stream",
     "text": [
      "The following columns in the test set  don't have a corresponding argument in `BertForTokenClassification.forward` and have been ignored: effect_indices_start, effect_indices_end, drug_indices_start, drug, drug_indices_end, text, effect, offset_mapping.\n",
      "***** Running Prediction *****\n",
      "  Num examples = 1068\n",
      "  Batch size = 16\n"
     ]
    },
    {
     "data": {
      "text/html": [
       "\n",
       "    <div>\n",
       "      \n",
       "      <progress value='67' max='67' style='width:300px; height:20px; vertical-align: middle;'></progress>\n",
       "      [67/67 00:04]\n",
       "    </div>\n",
       "    "
      ],
      "text/plain": [
       "<IPython.core.display.HTML object>"
      ]
     },
     "metadata": {},
     "output_type": "display_data"
    },
    {
     "data": {
      "text/plain": [
       "{'DRUG': {'precision': 0.9330357142857143,\n",
       "  'recall': 0.9661016949152542,\n",
       "  'f1': 0.9492808478425435,\n",
       "  'number': 1298},\n",
       " 'EFFECT': {'precision': 0.7772020725388601,\n",
       "  'recall': 0.8498583569405099,\n",
       "  'f1': 0.8119079837618403,\n",
       "  'number': 1412},\n",
       " 'overall_precision': 0.8497229916897507,\n",
       " 'overall_recall': 0.9055350553505535,\n",
       " 'overall_f1': 0.8767416934619507,\n",
       " 'overall_accuracy': 0.9560389628830261}"
      ]
     },
     "execution_count": 29,
     "metadata": {},
     "output_type": "execute_result"
    }
   ],
   "source": [
    "predictions, labels, _ = trainer.predict(labeled_dataset[\"test\"])\n",
    "predictions = np.argmax(predictions, axis=2)\n",
    "\n",
    "# Remove ignored index (special tokens)\n",
    "true_predictions = [\n",
    "    [label_list[p] for (p, l) in zip(prediction, label) if l != -100]\n",
    "    for prediction, label in zip(predictions, labels)\n",
    "]\n",
    "true_labels = [\n",
    "    [label_list[l] for (p, l) in zip(prediction, label) if l != -100]\n",
    "    for prediction, label in zip(predictions, labels)\n",
    "]\n",
    "\n",
    "results = metric.compute(predictions=true_predictions, references=true_labels)\n",
    "results"
   ]
  },
  {
   "cell_type": "markdown",
   "id": "0e603be6",
   "metadata": {},
   "source": [
    "# See Model Outputs"
   ]
  },
  {
   "cell_type": "markdown",
   "id": "75aacb92",
   "metadata": {},
   "source": [
    "We load our fine-tuned model into a pipeline object to run arbitrary input against it."
   ]
  },
  {
   "cell_type": "code",
   "execution_count": 35,
   "id": "59b3f83d",
   "metadata": {},
   "outputs": [],
   "source": [
    "effect_ner_model = pipeline(task=\"ner\", model=model, tokenizer=tokenizer, device=0,grouped_entities=True)"
   ]
  },
  {
   "cell_type": "code",
   "execution_count": 36,
   "id": "d7e858f3",
   "metadata": {
    "scrolled": true
   },
   "outputs": [
    {
     "data": {
      "text/plain": [
       "[{'entity_group': 'LABEL_0',\n",
       "  'score': 0.97856647,\n",
       "  'word': 'possible',\n",
       "  'start': 0,\n",
       "  'end': 8},\n",
       " {'entity_group': 'LABEL_3',\n",
       "  'score': 0.96306676,\n",
       "  'word': 'se',\n",
       "  'start': 9,\n",
       "  'end': 11},\n",
       " {'entity_group': 'LABEL_4',\n",
       "  'score': 0.9704819,\n",
       "  'word': '##rotonin syndrome',\n",
       "  'start': 11,\n",
       "  'end': 27},\n",
       " {'entity_group': 'LABEL_0',\n",
       "  'score': 0.97992325,\n",
       "  'word': 'associated with',\n",
       "  'start': 28,\n",
       "  'end': 43},\n",
       " {'entity_group': 'LABEL_1',\n",
       "  'score': 0.97092986,\n",
       "  'word': 'c',\n",
       "  'start': 44,\n",
       "  'end': 45},\n",
       " {'entity_group': 'LABEL_2',\n",
       "  'score': 0.9740207,\n",
       "  'word': '##lomipramine',\n",
       "  'start': 45,\n",
       "  'end': 56},\n",
       " {'entity_group': 'LABEL_0',\n",
       "  'score': 0.9799778,\n",
       "  'word': 'after withdrawal of',\n",
       "  'start': 57,\n",
       "  'end': 76},\n",
       " {'entity_group': 'LABEL_1',\n",
       "  'score': 0.9302365,\n",
       "  'word': 'c',\n",
       "  'start': 77,\n",
       "  'end': 78},\n",
       " {'entity_group': 'LABEL_2',\n",
       "  'score': 0.9093829,\n",
       "  'word': '##lozapine',\n",
       "  'start': 78,\n",
       "  'end': 86},\n",
       " {'entity_group': 'LABEL_0',\n",
       "  'score': 0.98005694,\n",
       "  'word': '.',\n",
       "  'start': 86,\n",
       "  'end': 87}]"
      ]
     },
     "execution_count": 36,
     "metadata": {},
     "output_type": "execute_result"
    }
   ],
   "source": [
    "# something from our validation set\n",
    "effect_ner_model(labeled_dataset[\"test\"][4][\"text\"])"
   ]
  },
  {
   "cell_type": "markdown",
   "id": "0c53ce77",
   "metadata": {},
   "source": [
    "\n",
    "We try out the first few examples of adverse effects from the Wikipedia page on adverse effects and visualize with the displaCy library:\n",
    "\n",
    "https://en.wikipedia.org/wiki/Adverse_effect#Medications"
   ]
  },
  {
   "cell_type": "code",
   "execution_count": 32,
   "id": "50b0716e",
   "metadata": {},
   "outputs": [
    {
     "data": {
      "text/plain": [
       "[{'entity_group': 'LABEL_0',\n",
       "  'score': 0.9698605,\n",
       "  'word': 'having',\n",
       "  'start': 0,\n",
       "  'end': 6},\n",
       " {'entity_group': 'LABEL_3',\n",
       "  'score': 0.9575445,\n",
       "  'word': 'fever',\n",
       "  'start': 7,\n",
       "  'end': 12},\n",
       " {'entity_group': 'LABEL_0',\n",
       "  'score': 0.9792889,\n",
       "  'word': 'after taking',\n",
       "  'start': 13,\n",
       "  'end': 25},\n",
       " {'entity_group': 'LABEL_1',\n",
       "  'score': 0.9705644,\n",
       "  'word': 'para',\n",
       "  'start': 26,\n",
       "  'end': 30},\n",
       " {'entity_group': 'LABEL_2',\n",
       "  'score': 0.97412354,\n",
       "  'word': '##cetamol',\n",
       "  'start': 30,\n",
       "  'end': 37}]"
      ]
     },
     "execution_count": 32,
     "metadata": {},
     "output_type": "execute_result"
    }
   ],
   "source": [
    "tokens = effect_ner_model(\"having fever after taking paracetamol\")\n",
    "tokens"
   ]
  },
  {
   "cell_type": "code",
   "execution_count": 33,
   "id": "0989e558",
   "metadata": {},
   "outputs": [],
   "source": [
    "def visualize_entities(sentence):\n",
    "    tokens = effect_ner_model(sentence)\n",
    "    entities = []\n",
    "    \n",
    "    for token in tokens:\n",
    "        label = int(token[\"entity_group\"][-1])\n",
    "        if label != 0:\n",
    "            token[\"label\"] = label_list[label]\n",
    "            entities.append(token)\n",
    "    \n",
    "    params = [{\"text\": sentence,\n",
    "               \"ents\": entities,\n",
    "               \"title\": None}]\n",
    "    \n",
    "    html = displacy.render(params, style=\"ent\", manual=True, options={\n",
    "        \"colors\": {\n",
    "                   \"B-DRUG\": \"#f08080\",\n",
    "                   \"I-DRUG\": \"#f08080\",\n",
    "                   \"B-EFFECT\": \"#9bddff\",\n",
    "                   \"I-EFFECT\": \"#9bddff\",\n",
    "               },\n",
    "    })\n",
    "    "
   ]
  },
  {
   "cell_type": "code",
   "execution_count": 34,
   "id": "10db07aa",
   "metadata": {
    "scrolled": true
   },
   "outputs": [
    {
     "data": {
      "text/html": [
       "<span class=\"tex2jax_ignore\"><div class=\"entities\" style=\"line-height: 2.5; direction: ltr\">\n",
       "<mark class=\"entity\" style=\"background: #9bddff; padding: 0.45em 0.6em; margin: 0 0.25em; line-height: 1; border-radius: 0.35em;\">\n",
       "    Abortion\n",
       "    <span style=\"font-size: 0.8em; font-weight: bold; line-height: 1; border-radius: 0.35em; vertical-align: middle; margin-left: 0.5rem\">B-EFFECT</span>\n",
       "</mark>\n",
       ", \n",
       "<mark class=\"entity\" style=\"background: #9bddff; padding: 0.45em 0.6em; margin: 0 0.25em; line-height: 1; border-radius: 0.35em;\">\n",
       "    mi\n",
       "    <span style=\"font-size: 0.8em; font-weight: bold; line-height: 1; border-radius: 0.35em; vertical-align: middle; margin-left: 0.5rem\">B-EFFECT</span>\n",
       "</mark>\n",
       "\n",
       "<mark class=\"entity\" style=\"background: #9bddff; padding: 0.45em 0.6em; margin: 0 0.25em; line-height: 1; border-radius: 0.35em;\">\n",
       "    scarriage\n",
       "    <span style=\"font-size: 0.8em; font-weight: bold; line-height: 1; border-radius: 0.35em; vertical-align: middle; margin-left: 0.5rem\">I-EFFECT</span>\n",
       "</mark>\n",
       " or \n",
       "<mark class=\"entity\" style=\"background: #9bddff; padding: 0.45em 0.6em; margin: 0 0.25em; line-height: 1; border-radius: 0.35em;\">\n",
       "    u\n",
       "    <span style=\"font-size: 0.8em; font-weight: bold; line-height: 1; border-radius: 0.35em; vertical-align: middle; margin-left: 0.5rem\">B-EFFECT</span>\n",
       "</mark>\n",
       "\n",
       "<mark class=\"entity\" style=\"background: #9bddff; padding: 0.45em 0.6em; margin: 0 0.25em; line-height: 1; border-radius: 0.35em;\">\n",
       "    terine hemorrhage\n",
       "    <span style=\"font-size: 0.8em; font-weight: bold; line-height: 1; border-radius: 0.35em; vertical-align: middle; margin-left: 0.5rem\">I-EFFECT</span>\n",
       "</mark>\n",
       " associated with \n",
       "<mark class=\"entity\" style=\"background: #f08080; padding: 0.45em 0.6em; margin: 0 0.25em; line-height: 1; border-radius: 0.35em;\">\n",
       "    mi\n",
       "    <span style=\"font-size: 0.8em; font-weight: bold; line-height: 1; border-radius: 0.35em; vertical-align: middle; margin-left: 0.5rem\">B-DRUG</span>\n",
       "</mark>\n",
       "\n",
       "<mark class=\"entity\" style=\"background: #f08080; padding: 0.45em 0.6em; margin: 0 0.25em; line-height: 1; border-radius: 0.35em;\">\n",
       "    soprostol\n",
       "    <span style=\"font-size: 0.8em; font-weight: bold; line-height: 1; border-radius: 0.35em; vertical-align: middle; margin-left: 0.5rem\">I-DRUG</span>\n",
       "</mark>\n",
       " (\n",
       "<mark class=\"entity\" style=\"background: #f08080; padding: 0.45em 0.6em; margin: 0 0.25em; line-height: 1; border-radius: 0.35em;\">\n",
       "    C\n",
       "    <span style=\"font-size: 0.8em; font-weight: bold; line-height: 1; border-radius: 0.35em; vertical-align: middle; margin-left: 0.5rem\">B-DRUG</span>\n",
       "</mark>\n",
       "\n",
       "<mark class=\"entity\" style=\"background: #f08080; padding: 0.45em 0.6em; margin: 0 0.25em; line-height: 1; border-radius: 0.35em;\">\n",
       "    ytotec\n",
       "    <span style=\"font-size: 0.8em; font-weight: bold; line-height: 1; border-radius: 0.35em; vertical-align: middle; margin-left: 0.5rem\">I-DRUG</span>\n",
       "</mark>\n",
       "), a labor-inducing drug.</div></span>"
      ],
      "text/plain": [
       "<IPython.core.display.HTML object>"
      ]
     },
     "metadata": {},
     "output_type": "display_data"
    },
    {
     "name": "stdout",
     "output_type": "stream",
     "text": [
      "**************************************************\n",
      "\n"
     ]
    },
    {
     "data": {
      "text/html": [
       "<span class=\"tex2jax_ignore\"><div class=\"entities\" style=\"line-height: 2.5; direction: ltr\">\n",
       "<mark class=\"entity\" style=\"background: #9bddff; padding: 0.45em 0.6em; margin: 0 0.25em; line-height: 1; border-radius: 0.35em;\">\n",
       "    Addiction\n",
       "    <span style=\"font-size: 0.8em; font-weight: bold; line-height: 1; border-radius: 0.35em; vertical-align: middle; margin-left: 0.5rem\">B-EFFECT</span>\n",
       "</mark>\n",
       " to many sedatives and analgesics, such as \n",
       "<mark class=\"entity\" style=\"background: #f08080; padding: 0.45em 0.6em; margin: 0 0.25em; line-height: 1; border-radius: 0.35em;\">\n",
       "    di\n",
       "    <span style=\"font-size: 0.8em; font-weight: bold; line-height: 1; border-radius: 0.35em; vertical-align: middle; margin-left: 0.5rem\">B-DRUG</span>\n",
       "</mark>\n",
       "\n",
       "<mark class=\"entity\" style=\"background: #f08080; padding: 0.45em 0.6em; margin: 0 0.25em; line-height: 1; border-radius: 0.35em;\">\n",
       "    azepam\n",
       "    <span style=\"font-size: 0.8em; font-weight: bold; line-height: 1; border-radius: 0.35em; vertical-align: middle; margin-left: 0.5rem\">I-DRUG</span>\n",
       "</mark>\n",
       ", \n",
       "<mark class=\"entity\" style=\"background: #f08080; padding: 0.45em 0.6em; margin: 0 0.25em; line-height: 1; border-radius: 0.35em;\">\n",
       "    m\n",
       "    <span style=\"font-size: 0.8em; font-weight: bold; line-height: 1; border-radius: 0.35em; vertical-align: middle; margin-left: 0.5rem\">B-DRUG</span>\n",
       "</mark>\n",
       "\n",
       "<mark class=\"entity\" style=\"background: #f08080; padding: 0.45em 0.6em; margin: 0 0.25em; line-height: 1; border-radius: 0.35em;\">\n",
       "    orphine\n",
       "    <span style=\"font-size: 0.8em; font-weight: bold; line-height: 1; border-radius: 0.35em; vertical-align: middle; margin-left: 0.5rem\">I-DRUG</span>\n",
       "</mark>\n",
       ", etc.</div></span>"
      ],
      "text/plain": [
       "<IPython.core.display.HTML object>"
      ]
     },
     "metadata": {},
     "output_type": "display_data"
    },
    {
     "name": "stdout",
     "output_type": "stream",
     "text": [
      "**************************************************\n",
      "\n"
     ]
    },
    {
     "data": {
      "text/html": [
       "<span class=\"tex2jax_ignore\"><div class=\"entities\" style=\"line-height: 2.5; direction: ltr\">\n",
       "<mark class=\"entity\" style=\"background: #9bddff; padding: 0.45em 0.6em; margin: 0 0.25em; line-height: 1; border-radius: 0.35em;\">\n",
       "    Birth\n",
       "    <span style=\"font-size: 0.8em; font-weight: bold; line-height: 1; border-radius: 0.35em; vertical-align: middle; margin-left: 0.5rem\">B-EFFECT</span>\n",
       "</mark>\n",
       " \n",
       "<mark class=\"entity\" style=\"background: #9bddff; padding: 0.45em 0.6em; margin: 0 0.25em; line-height: 1; border-radius: 0.35em;\">\n",
       "    defects\n",
       "    <span style=\"font-size: 0.8em; font-weight: bold; line-height: 1; border-radius: 0.35em; vertical-align: middle; margin-left: 0.5rem\">I-EFFECT</span>\n",
       "</mark>\n",
       " associated with \n",
       "<mark class=\"entity\" style=\"background: #f08080; padding: 0.45em 0.6em; margin: 0 0.25em; line-height: 1; border-radius: 0.35em;\">\n",
       "    th\n",
       "    <span style=\"font-size: 0.8em; font-weight: bold; line-height: 1; border-radius: 0.35em; vertical-align: middle; margin-left: 0.5rem\">B-DRUG</span>\n",
       "</mark>\n",
       "\n",
       "<mark class=\"entity\" style=\"background: #f08080; padding: 0.45em 0.6em; margin: 0 0.25em; line-height: 1; border-radius: 0.35em;\">\n",
       "    alidomide\n",
       "    <span style=\"font-size: 0.8em; font-weight: bold; line-height: 1; border-radius: 0.35em; vertical-align: middle; margin-left: 0.5rem\">I-DRUG</span>\n",
       "</mark>\n",
       "</div></span>"
      ],
      "text/plain": [
       "<IPython.core.display.HTML object>"
      ]
     },
     "metadata": {},
     "output_type": "display_data"
    },
    {
     "name": "stdout",
     "output_type": "stream",
     "text": [
      "**************************************************\n",
      "\n"
     ]
    },
    {
     "data": {
      "text/html": [
       "<span class=\"tex2jax_ignore\"><div class=\"entities\" style=\"line-height: 2.5; direction: ltr\">\n",
       "<mark class=\"entity\" style=\"background: #9bddff; padding: 0.45em 0.6em; margin: 0 0.25em; line-height: 1; border-radius: 0.35em;\">\n",
       "    Bleeding\n",
       "    <span style=\"font-size: 0.8em; font-weight: bold; line-height: 1; border-radius: 0.35em; vertical-align: middle; margin-left: 0.5rem\">B-EFFECT</span>\n",
       "</mark>\n",
       " \n",
       "<mark class=\"entity\" style=\"background: #9bddff; padding: 0.45em 0.6em; margin: 0 0.25em; line-height: 1; border-radius: 0.35em;\">\n",
       "    of the intestine\n",
       "    <span style=\"font-size: 0.8em; font-weight: bold; line-height: 1; border-radius: 0.35em; vertical-align: middle; margin-left: 0.5rem\">I-EFFECT</span>\n",
       "</mark>\n",
       " associated with \n",
       "<mark class=\"entity\" style=\"background: #f08080; padding: 0.45em 0.6em; margin: 0 0.25em; line-height: 1; border-radius: 0.35em;\">\n",
       "    as\n",
       "    <span style=\"font-size: 0.8em; font-weight: bold; line-height: 1; border-radius: 0.35em; vertical-align: middle; margin-left: 0.5rem\">B-DRUG</span>\n",
       "</mark>\n",
       "\n",
       "<mark class=\"entity\" style=\"background: #f08080; padding: 0.45em 0.6em; margin: 0 0.25em; line-height: 1; border-radius: 0.35em;\">\n",
       "    pirin\n",
       "    <span style=\"font-size: 0.8em; font-weight: bold; line-height: 1; border-radius: 0.35em; vertical-align: middle; margin-left: 0.5rem\">I-DRUG</span>\n",
       "</mark>\n",
       " therapy</div></span>"
      ],
      "text/plain": [
       "<IPython.core.display.HTML object>"
      ]
     },
     "metadata": {},
     "output_type": "display_data"
    },
    {
     "name": "stdout",
     "output_type": "stream",
     "text": [
      "**************************************************\n",
      "\n"
     ]
    },
    {
     "data": {
      "text/html": [
       "<span class=\"tex2jax_ignore\"><div class=\"entities\" style=\"line-height: 2.5; direction: ltr\">\n",
       "<mark class=\"entity\" style=\"background: #9bddff; padding: 0.45em 0.6em; margin: 0 0.25em; line-height: 1; border-radius: 0.35em;\">\n",
       "    Card\n",
       "    <span style=\"font-size: 0.8em; font-weight: bold; line-height: 1; border-radius: 0.35em; vertical-align: middle; margin-left: 0.5rem\">B-EFFECT</span>\n",
       "</mark>\n",
       "\n",
       "<mark class=\"entity\" style=\"background: #9bddff; padding: 0.45em 0.6em; margin: 0 0.25em; line-height: 1; border-radius: 0.35em;\">\n",
       "    iovascular disease\n",
       "    <span style=\"font-size: 0.8em; font-weight: bold; line-height: 1; border-radius: 0.35em; vertical-align: middle; margin-left: 0.5rem\">I-EFFECT</span>\n",
       "</mark>\n",
       " associated with COX-2 inhibitors (i.e. \n",
       "<mark class=\"entity\" style=\"background: #f08080; padding: 0.45em 0.6em; margin: 0 0.25em; line-height: 1; border-radius: 0.35em;\">\n",
       "    V\n",
       "    <span style=\"font-size: 0.8em; font-weight: bold; line-height: 1; border-radius: 0.35em; vertical-align: middle; margin-left: 0.5rem\">B-DRUG</span>\n",
       "</mark>\n",
       "\n",
       "<mark class=\"entity\" style=\"background: #f08080; padding: 0.45em 0.6em; margin: 0 0.25em; line-height: 1; border-radius: 0.35em;\">\n",
       "    ioxx\n",
       "    <span style=\"font-size: 0.8em; font-weight: bold; line-height: 1; border-radius: 0.35em; vertical-align: middle; margin-left: 0.5rem\">I-DRUG</span>\n",
       "</mark>\n",
       ")</div></span>"
      ],
      "text/plain": [
       "<IPython.core.display.HTML object>"
      ]
     },
     "metadata": {},
     "output_type": "display_data"
    },
    {
     "name": "stdout",
     "output_type": "stream",
     "text": [
      "**************************************************\n",
      "\n"
     ]
    },
    {
     "data": {
      "text/html": [
       "<span class=\"tex2jax_ignore\"><div class=\"entities\" style=\"line-height: 2.5; direction: ltr\">\n",
       "<mark class=\"entity\" style=\"background: #9bddff; padding: 0.45em 0.6em; margin: 0 0.25em; line-height: 1; border-radius: 0.35em;\">\n",
       "    Deaf\n",
       "    <span style=\"font-size: 0.8em; font-weight: bold; line-height: 1; border-radius: 0.35em; vertical-align: middle; margin-left: 0.5rem\">B-EFFECT</span>\n",
       "</mark>\n",
       "\n",
       "<mark class=\"entity\" style=\"background: #9bddff; padding: 0.45em 0.6em; margin: 0 0.25em; line-height: 1; border-radius: 0.35em;\">\n",
       "    ness\n",
       "    <span style=\"font-size: 0.8em; font-weight: bold; line-height: 1; border-radius: 0.35em; vertical-align: middle; margin-left: 0.5rem\">I-EFFECT</span>\n",
       "</mark>\n",
       " and \n",
       "<mark class=\"entity\" style=\"background: #9bddff; padding: 0.45em 0.6em; margin: 0 0.25em; line-height: 1; border-radius: 0.35em;\">\n",
       "    kidney\n",
       "    <span style=\"font-size: 0.8em; font-weight: bold; line-height: 1; border-radius: 0.35em; vertical-align: middle; margin-left: 0.5rem\">B-EFFECT</span>\n",
       "</mark>\n",
       " \n",
       "<mark class=\"entity\" style=\"background: #9bddff; padding: 0.45em 0.6em; margin: 0 0.25em; line-height: 1; border-radius: 0.35em;\">\n",
       "    failure\n",
       "    <span style=\"font-size: 0.8em; font-weight: bold; line-height: 1; border-radius: 0.35em; vertical-align: middle; margin-left: 0.5rem\">I-EFFECT</span>\n",
       "</mark>\n",
       " associated with \n",
       "<mark class=\"entity\" style=\"background: #f08080; padding: 0.45em 0.6em; margin: 0 0.25em; line-height: 1; border-radius: 0.35em;\">\n",
       "    g\n",
       "    <span style=\"font-size: 0.8em; font-weight: bold; line-height: 1; border-radius: 0.35em; vertical-align: middle; margin-left: 0.5rem\">B-DRUG</span>\n",
       "</mark>\n",
       "\n",
       "<mark class=\"entity\" style=\"background: #f08080; padding: 0.45em 0.6em; margin: 0 0.25em; line-height: 1; border-radius: 0.35em;\">\n",
       "    entamicin\n",
       "    <span style=\"font-size: 0.8em; font-weight: bold; line-height: 1; border-radius: 0.35em; vertical-align: middle; margin-left: 0.5rem\">I-DRUG</span>\n",
       "</mark>\n",
       " (an antibiotic)</div></span>"
      ],
      "text/plain": [
       "<IPython.core.display.HTML object>"
      ]
     },
     "metadata": {},
     "output_type": "display_data"
    },
    {
     "name": "stdout",
     "output_type": "stream",
     "text": [
      "**************************************************\n",
      "\n"
     ]
    },
    {
     "data": {
      "text/html": [
       "<span class=\"tex2jax_ignore\"><div class=\"entities\" style=\"line-height: 2.5; direction: ltr\">having \n",
       "<mark class=\"entity\" style=\"background: #9bddff; padding: 0.45em 0.6em; margin: 0 0.25em; line-height: 1; border-radius: 0.35em;\">\n",
       "    fever\n",
       "    <span style=\"font-size: 0.8em; font-weight: bold; line-height: 1; border-radius: 0.35em; vertical-align: middle; margin-left: 0.5rem\">B-EFFECT</span>\n",
       "</mark>\n",
       " after taking \n",
       "<mark class=\"entity\" style=\"background: #f08080; padding: 0.45em 0.6em; margin: 0 0.25em; line-height: 1; border-radius: 0.35em;\">\n",
       "    para\n",
       "    <span style=\"font-size: 0.8em; font-weight: bold; line-height: 1; border-radius: 0.35em; vertical-align: middle; margin-left: 0.5rem\">B-DRUG</span>\n",
       "</mark>\n",
       "\n",
       "<mark class=\"entity\" style=\"background: #f08080; padding: 0.45em 0.6em; margin: 0 0.25em; line-height: 1; border-radius: 0.35em;\">\n",
       "    cetamol\n",
       "    <span style=\"font-size: 0.8em; font-weight: bold; line-height: 1; border-radius: 0.35em; vertical-align: middle; margin-left: 0.5rem\">I-DRUG</span>\n",
       "</mark>\n",
       "</div></span>"
      ],
      "text/plain": [
       "<IPython.core.display.HTML object>"
      ]
     },
     "metadata": {},
     "output_type": "display_data"
    },
    {
     "name": "stdout",
     "output_type": "stream",
     "text": [
      "**************************************************\n",
      "\n"
     ]
    }
   ],
   "source": [
    "examples = [\n",
    "    \"Abortion, miscarriage or uterine hemorrhage associated with misoprostol (Cytotec), a labor-inducing drug.\",\n",
    "    \"Addiction to many sedatives and analgesics, such as diazepam, morphine, etc.\",\n",
    "    \"Birth defects associated with thalidomide\",\n",
    "    \"Bleeding of the intestine associated with aspirin therapy\",\n",
    "    \"Cardiovascular disease associated with COX-2 inhibitors (i.e. Vioxx)\",\n",
    "    \"Deafness and kidney failure associated with gentamicin (an antibiotic)\",\n",
    "    \"having fever after taking paracetamol\"\n",
    "]\n",
    "\n",
    "for example in examples:\n",
    "    visualize_entities(example)\n",
    "    print(f\"{'*' * 50}\\n\")"
   ]
  },
  {
   "cell_type": "code",
   "execution_count": null,
   "id": "5595ba1d",
   "metadata": {},
   "outputs": [],
   "source": []
  },
  {
   "cell_type": "code",
   "execution_count": null,
   "id": "1ce6f835",
   "metadata": {},
   "outputs": [],
   "source": []
  },
  {
   "cell_type": "code",
   "execution_count": null,
   "id": "ccbbc9f4",
   "metadata": {},
   "outputs": [],
   "source": []
  },
  {
   "cell_type": "code",
   "execution_count": null,
   "id": "bf62a754",
   "metadata": {},
   "outputs": [],
   "source": []
  }
 ],
 "metadata": {
  "kernelspec": {
   "display_name": "conda_pytorch_p36",
   "language": "python",
   "name": "conda_pytorch_p36"
  },
  "language_info": {
   "codemirror_mode": {
    "name": "ipython",
    "version": 3
   },
   "file_extension": ".py",
   "mimetype": "text/x-python",
   "name": "python",
   "nbconvert_exporter": "python",
   "pygments_lexer": "ipython3",
   "version": "3.6.13"
  }
 },
 "nbformat": 4,
 "nbformat_minor": 5
}
