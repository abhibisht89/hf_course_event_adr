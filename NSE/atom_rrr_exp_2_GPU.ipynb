{
 "cells": [
  {
   "cell_type": "code",
   "execution_count": 1,
   "id": "68df3ef2",
   "metadata": {},
   "outputs": [],
   "source": [
    "import json\n",
    "from sentence_transformers import SentenceTransformer, CrossEncoder, util\n",
    "import gzip\n",
    "import os\n",
    "import torch\n",
    "import pickle\n",
    "import pandas as pd"
   ]
  },
  {
   "cell_type": "code",
   "execution_count": 2,
   "id": "dbd27b89",
   "metadata": {},
   "outputs": [],
   "source": [
    "def load_artifacts(bi_enc='multi-qa-MiniLM-L6-cos-v1',cross_enc='cross-encoder/ms-marco-MiniLM-L-6-v2',corpus='corpus.pkl',corpus_emb='corpus_embeddings.pkl'):\n",
    "    bi_encoder = SentenceTransformer(bi_enc)\n",
    "    cross_encoder = CrossEncoder(cross_enc)\n",
    "    corpus_embeddings=pd.read_pickle(corpus_emb)\n",
    "    corpus=pd.read_pickle(corpus)\n",
    "    return bi_encoder,cross_encoder,corpus,corpus_embeddings"
   ]
  },
  {
   "cell_type": "code",
   "execution_count": 14,
   "id": "0485df98",
   "metadata": {},
   "outputs": [],
   "source": [
    "def search_helper(query,bi_encoder,cross_encoder,corpus,corpus_embeddings,top_k=100):\n",
    "    ##### Sematic Search #####\n",
    "    # Encode the query using the bi-encoder and find potentially relevant passages\n",
    "    ans_lst=[]\n",
    "    question_embedding = bi_encoder.encode(query, convert_to_tensor=True)\n",
    "    question_embedding = question_embedding.cuda()\n",
    "    hits = util.semantic_search(question_embedding, corpus_embeddings, top_k=top_k)\n",
    "    hits = hits[0]  # Get the hits for the first query\n",
    "\n",
    "    ##### Re-Ranking #####\n",
    "    # Now, score all retrieved passages with the cross_encoder\n",
    "    cross_inp = [[query, corpus[hit['corpus_id']]] for hit in hits]\n",
    "    cross_scores = cross_encoder.predict(cross_inp)\n",
    "\n",
    "    # Sort results by the cross-encoder scores\n",
    "    for idx in range(len(cross_scores)):\n",
    "        hits[idx]['cross-score'] = cross_scores[idx]\n",
    "\n",
    "    hits = sorted(hits, key=lambda x: x['cross-score'], reverse=True)\n",
    "    \n",
    "    for hit in hits[0:5]:\n",
    "        ans_lst.append(corpus[hit['corpus_id']])\n",
    "                       \n",
    "    return ans_lst                "
   ]
  },
  {
   "cell_type": "code",
   "execution_count": 15,
   "id": "438ad8dc",
   "metadata": {},
   "outputs": [],
   "source": [
    "def search(query):\n",
    "    return search_helper(query,bi_encoder,cross_encoder,corpus,corpus_embeddings,top_k=100)"
   ]
  },
  {
   "cell_type": "code",
   "execution_count": 16,
   "id": "772c5b5b",
   "metadata": {},
   "outputs": [],
   "source": [
    "bi_encoder,cross_encoder,corpus,corpus_embeddings=load_artifacts()"
   ]
  },
  {
   "cell_type": "code",
   "execution_count": 17,
   "id": "baa44def",
   "metadata": {},
   "outputs": [
    {
     "data": {
      "text/plain": [
       "['France ( or ; ), officially the French Republic (, ), is a country whose metropolitan territory is located in Western Europe and that also comprises various overseas islands and territories located in other continents. Metropolitan France extends from the Mediterranean Sea to the English Channel and the North Sea, and from the Rhine to the Atlantic Ocean. It is often referred to as \"L’Hexagone\" (\"The Hexagon\") because of the shape of its territory. France is a unitary semi-presidential republic with its main ideals expressed in the Declaration of the Rights of Man and of the Citizen.',\n",
       " 'The capital of France is Paris. In the course of history, the national capital has been in many locations other than Paris.',\n",
       " 'Metropolitan France ( or \"la Métropole\") is the part of France that is in Europe. It can also be described as mainland France plus the island of Corsica. By contrast, Overseas France (\"France d\\'outre-mer\") is the collective name for all of the French overseas departments, territories and collectivities and New Caledonia. Metropolitan France and Overseas France together form the French Republic.',\n",
       " 'Overseas France () is the part of France that is outside of the European continent. It consists of all overseas departments, territories and collectivities. These territories have several different legal statuses and levels of autonomy. Overseas France includes island territories in the Atlantic, Pacific and Indian oceans, French Guiana in South America, and Adélie Land in Antarctica. Each inhabited territory is represented in both the French National Assembly and the French Senate (which together make up the Parliament of France).',\n",
       " 'Île-de-France is a region of France. The capital city is Paris. It is also the capital city of France. In 2013 about 12 million people lived in the region. About 2.1 million people live in the city of Paris.']"
      ]
     },
     "execution_count": 17,
     "metadata": {},
     "output_type": "execute_result"
    }
   ],
   "source": [
    "search(\"where is france\")"
   ]
  },
  {
   "cell_type": "code",
   "execution_count": 18,
   "id": "6bcf0a38",
   "metadata": {},
   "outputs": [],
   "source": [
    "import gradio as gr"
   ]
  },
  {
   "cell_type": "code",
   "execution_count": 19,
   "id": "e6713a02",
   "metadata": {
    "scrolled": true
   },
   "outputs": [
    {
     "name": "stdout",
     "output_type": "stream",
     "text": [
      "Running on local URL:  http://127.0.0.1:7862/\n",
      "Running on public URL: https://32792.gradio.app\n",
      "\n",
      "This share link will expire in 72 hours. To get longer links, send an email to: support@gradio.app\n"
     ]
    },
    {
     "data": {
      "text/html": [
       "\n",
       "        <iframe\n",
       "            width=\"900\"\n",
       "            height=\"500\"\n",
       "            src=\"https://32792.gradio.app\"\n",
       "            frameborder=\"0\"\n",
       "            allowfullscreen\n",
       "        ></iframe>\n",
       "        "
      ],
      "text/plain": [
       "<IPython.lib.display.IFrame at 0x7f43d6a8c908>"
      ]
     },
     "metadata": {},
     "output_type": "display_data"
    }
   ],
   "source": [
    "iface = gr.Interface(fn=search, inputs=[\"text\"], outputs=\"textbox\").launch(share=True)"
   ]
  },
  {
   "cell_type": "code",
   "execution_count": null,
   "id": "5cb764b8",
   "metadata": {},
   "outputs": [],
   "source": []
  }
 ],
 "metadata": {
  "kernelspec": {
   "display_name": "conda_pytorch_p36",
   "language": "python",
   "name": "conda_pytorch_p36"
  },
  "language_info": {
   "codemirror_mode": {
    "name": "ipython",
    "version": 3
   },
   "file_extension": ".py",
   "mimetype": "text/x-python",
   "name": "python",
   "nbconvert_exporter": "python",
   "pygments_lexer": "ipython3",
   "version": "3.6.13"
  }
 },
 "nbformat": 4,
 "nbformat_minor": 5
}
