{
 "cells": [
  {
   "cell_type": "code",
   "execution_count": null,
   "id": "91638075",
   "metadata": {},
   "outputs": [],
   "source": [
    "from sentence_transformers import SentenceTransformer, CrossEncoder, util\n",
    "import torch\n",
    "import pickle\n",
    "import pandas as pd\n",
    "import gradio as gr\n",
    "\n",
    "bi_encoder = SentenceTransformer(\"multi-qa-MiniLM-L6-cos-v1\")\n",
    "cross_encoder = CrossEncoder(\"cross-encoder/ms-marco-MiniLM-L-6-v2\")\n",
    "corpus_embeddings=pd.read_pickle(\"corpus_embeddings.pkl\")\n",
    "corpus=pd.read_pickle(\"corpus.pkl\")"
   ]
  },
  {
   "cell_type": "code",
   "execution_count": 44,
   "id": "3806c77b",
   "metadata": {},
   "outputs": [
    {
     "name": "stdout",
     "output_type": "stream",
     "text": [
      "Running on local URL:  http://127.0.0.1:7886/\n",
      "Running on public URL: https://24291.gradio.app\n",
      "\n",
      "This share link will expire in 72 hours. To get longer links, send an email to: support@gradio.app\n"
     ]
    },
    {
     "data": {
      "text/html": [
       "\n",
       "        <iframe\n",
       "            width=\"900\"\n",
       "            height=\"500\"\n",
       "            src=\"https://24291.gradio.app\"\n",
       "            frameborder=\"0\"\n",
       "            allowfullscreen\n",
       "        ></iframe>\n",
       "        "
      ],
      "text/plain": [
       "<IPython.lib.display.IFrame at 0x7f6aa17c76a0>"
      ]
     },
     "metadata": {},
     "output_type": "display_data"
    },
    {
     "data": {
      "text/plain": [
       "(<Flask 'gradio.networking'>,\n",
       " 'http://127.0.0.1:7886/',\n",
       " 'https://24291.gradio.app')"
      ]
     },
     "execution_count": 44,
     "metadata": {},
     "output_type": "execute_result"
    }
   ],
   "source": [
    "def search(query,top_k=100):\n",
    "#     print(\"Top 5 Answer by the NSE:\")\n",
    "#     print()\n",
    "    ans=[]\n",
    "    ##### Sematic Search #####\n",
    "    # Encode the query using the bi-encoder and find potentially relevant passages\n",
    "    question_embedding = bi_encoder.encode(query, convert_to_tensor=True)\n",
    "    hits = util.semantic_search(question_embedding, corpus_embeddings, top_k=top_k)\n",
    "    hits = hits[0]  # Get the hits for the first query\n",
    "\n",
    "    ##### Re-Ranking #####\n",
    "    # Now, score all retrieved passages with the cross_encoder\n",
    "    cross_inp = [[query, corpus[hit['corpus_id']]] for hit in hits]\n",
    "    cross_scores = cross_encoder.predict(cross_inp)\n",
    "\n",
    "    # Sort results by the cross-encoder scores\n",
    "    for idx in range(len(cross_scores)):\n",
    "        hits[idx]['cross-score'] = cross_scores[idx]\n",
    "\n",
    "    hits = sorted(hits, key=lambda x: x['cross-score'], reverse=True)\n",
    "    \n",
    "    for idx, hit in enumerate(hits[0:5]):\n",
    "        ans.append(corpus[hit['corpus_id']])\n",
    "    return ans[0],ans[1],ans[2],ans[3],ans[4]\n",
    "\n",
    "exp=[\"Who is steve jobs\",\"What is coldplay\",\"What is a turing test?\",\"What is the most interesting thing about our universe?\",\"What are the most beautiful places on earth?\"]\n",
    "\n",
    "desc=\"This is a semantic search engine powered by SentenceTransformers (Nils_Reimers) with a retrieval and reranking system on Wikipedia corous. This will return the top 5 results. Search a query and see how good model is doing.\"\n",
    "\n",
    "inp=gr.inputs.Textbox(lines=1, placeholder=None, default=\"\", label=\"search you query here\")\n",
    "out=gr.outputs.Textbox(type=\"auto\",label=\"search results\")\n",
    "\n",
    "iface = gr.Interface(fn=search, inputs=inp, outputs=[out,out,out,out,out],examples=exp,article=desc,title=\"Neural Search Engine\",theme=\"huggingface\",layout='vertical')\n",
    "iface.launch(share=True)"
   ]
  },
  {
   "cell_type": "code",
   "execution_count": 13,
   "id": "fbe3f8b7",
   "metadata": {},
   "outputs": [
    {
     "data": {
      "text/plain": [
       "('France ( or ; ), officially the French Republic (, ), is a country whose metropolitan territory is located in Western Europe and that also comprises various overseas islands and territories located in other continents. Metropolitan France extends from the Mediterranean Sea to the English Channel and the North Sea, and from the Rhine to the Atlantic Ocean. It is often referred to as \"L’Hexagone\" (\"The Hexagon\") because of the shape of its territory. France is a unitary semi-presidential republic with its main ideals expressed in the Declaration of the Rights of Man and of the Citizen.',\n",
       " 'The capital of France is Paris. In the course of history, the national capital has been in many locations other than Paris.',\n",
       " 'Metropolitan France ( or \"la Métropole\") is the part of France that is in Europe. It can also be described as mainland France plus the island of Corsica. By contrast, Overseas France (\"France d\\'outre-mer\") is the collective name for all of the French overseas departments, territories and collectivities and New Caledonia. Metropolitan France and Overseas France together form the French Republic.',\n",
       " 'Overseas France () is the part of France that is outside of the European continent. It consists of all overseas departments, territories and collectivities. These territories have several different legal statuses and levels of autonomy. Overseas France includes island territories in the Atlantic, Pacific and Indian oceans, French Guiana in South America, and Adélie Land in Antarctica. Each inhabited territory is represented in both the French National Assembly and the French Senate (which together make up the Parliament of France).',\n",
       " 'Île-de-France is a region of France. The capital city is Paris. It is also the capital city of France. In 2013 about 12 million people lived in the region. About 2.1 million people live in the city of Paris.')"
      ]
     },
     "execution_count": 13,
     "metadata": {},
     "output_type": "execute_result"
    }
   ],
   "source": [
    "search(\"where is france\")"
   ]
  },
  {
   "cell_type": "code",
   "execution_count": null,
   "id": "e715f594",
   "metadata": {},
   "outputs": [],
   "source": []
  },
  {
   "cell_type": "code",
   "execution_count": null,
   "id": "525483f2",
   "metadata": {
    "scrolled": true
   },
   "outputs": [],
   "source": [
    "iface = gr.Interface(fn=search, inputs=[\"text\"], outputs=[\"textbox\",\"textbox\",\"textbox\",\"textbox\",\"textbox\"]).launch(share=True)"
   ]
  },
  {
   "cell_type": "code",
   "execution_count": null,
   "id": "12343170",
   "metadata": {},
   "outputs": [],
   "source": []
  }
 ],
 "metadata": {
  "kernelspec": {
   "display_name": "conda_pytorch_p36",
   "language": "python",
   "name": "conda_pytorch_p36"
  },
  "language_info": {
   "codemirror_mode": {
    "name": "ipython",
    "version": 3
   },
   "file_extension": ".py",
   "mimetype": "text/x-python",
   "name": "python",
   "nbconvert_exporter": "python",
   "pygments_lexer": "ipython3",
   "version": "3.6.13"
  }
 },
 "nbformat": 4,
 "nbformat_minor": 5
}
